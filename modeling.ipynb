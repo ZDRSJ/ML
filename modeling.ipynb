{
 "cells": [
  {
   "cell_type": "code",
   "execution_count": null,
   "metadata": {},
   "outputs": [],
   "source": []
  },
  {
   "cell_type": "markdown",
   "metadata": {},
   "source": [
    "---"
   ]
  },
  {
   "cell_type": "markdown",
   "metadata": {},
   "source": [
    "### 다양한 ML 및 딥러닝 모델 구현할 예정\n",
    "- 데이콘 아파트 실거래가 예측 우승 코드 참고"
   ]
  },
  {
   "cell_type": "code",
   "execution_count": null,
   "metadata": {},
   "outputs": [],
   "source": [
    "import pandas as pd\n",
    "import numpy as np\n",
    "import matplotlib.pyplot as plt\n",
    "import seaborn as sns\n",
    "from tqdm import tqdm\n",
    "from sklearn.linear_model import LinearRegression, ElasticNet, Lasso, Ridge\n",
    "from sklearn.tree import DecisionTreeRegressor\n",
    "from sklearn.ensemble import RandomForestRegressor\n",
    "from sklearn.preprocessing import  LabelEncoder\n",
    "from sklearn.model_selection import TimeSeriesSplit\n",
    "from sklearn.metrics import mean_squared_error\n",
    "import xgboost as xgb\n",
    "import lightgbm as lgb\n",
    "import re\n",
    "import optuna\n",
    "from optuna.integration import XGBoostPruningCallback\n",
    "sns.set_theme(style=\"darkgrid\")"
   ]
  },
  {
   "cell_type": "code",
   "execution_count": null,
   "metadata": {},
   "outputs": [],
   "source": [
    "# 데이터셋 불러오기\n",
    "# 컬럼(피처)별 설명 필요\n",
    "# 산술통계량 및 정보 확인 필요\n",
    "'''\n",
    "train_df.describe()\n",
    "train_df.info()\n",
    "'''"
   ]
  },
  {
   "cell_type": "code",
   "execution_count": null,
   "metadata": {},
   "outputs": [],
   "source": [
    "# 인코딩 필요한 컬럼 확인 (구, 동)\n",
    "# one-hot / mean 중 성능 비교 후 선택 예정\n",
    "# 데이콘에서는 각 아파트의 평균 가격을 확인 후 내림차순으로 라벨인코딩 했음\n",
    "# 데이콘에서는 완공 연도도 정수형으로 라벨인코딩 해주었는데 필요할까??\n",
    "# 날짜 데이터를 유의미하게 인코딩 함으로써 예측력을 올린 것 같음 했음 (신축일수록 점수 높게)"
   ]
  }
 ],
 "metadata": {
  "language_info": {
   "name": "python"
  },
  "orig_nbformat": 4
 },
 "nbformat": 4,
 "nbformat_minor": 2
}
