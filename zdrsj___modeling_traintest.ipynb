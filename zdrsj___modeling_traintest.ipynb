{
  "cells": [
    {
      "cell_type": "code",
      "source": [
        "! pip install xgboost\n",
        "! pip install optuna"
      ],
      "metadata": {
        "colab": {
          "base_uri": "https://localhost:8080/"
        },
        "id": "TLg4uxit67oO",
        "outputId": "e1c4ba5d-1280-40df-c7b9-f916f30e606b"
      },
      "execution_count": null,
      "outputs": [
        {
          "output_type": "stream",
          "name": "stdout",
          "text": [
            "Requirement already satisfied: xgboost in /usr/local/lib/python3.7/dist-packages (0.90)\n",
            "Requirement already satisfied: numpy in /usr/local/lib/python3.7/dist-packages (from xgboost) (1.21.5)\n",
            "Requirement already satisfied: scipy in /usr/local/lib/python3.7/dist-packages (from xgboost) (1.4.1)\n",
            "Requirement already satisfied: optuna in /usr/local/lib/python3.7/dist-packages (2.10.0)\n",
            "Requirement already satisfied: scipy!=1.4.0 in /usr/local/lib/python3.7/dist-packages (from optuna) (1.4.1)\n",
            "Requirement already satisfied: sqlalchemy>=1.1.0 in /usr/local/lib/python3.7/dist-packages (from optuna) (1.4.32)\n",
            "Requirement already satisfied: cmaes>=0.8.2 in /usr/local/lib/python3.7/dist-packages (from optuna) (0.8.2)\n",
            "Requirement already satisfied: numpy in /usr/local/lib/python3.7/dist-packages (from optuna) (1.21.5)\n",
            "Requirement already satisfied: tqdm in /usr/local/lib/python3.7/dist-packages (from optuna) (4.63.0)\n",
            "Requirement already satisfied: PyYAML in /usr/local/lib/python3.7/dist-packages (from optuna) (3.13)\n",
            "Requirement already satisfied: packaging>=20.0 in /usr/local/lib/python3.7/dist-packages (from optuna) (21.3)\n",
            "Requirement already satisfied: cliff in /usr/local/lib/python3.7/dist-packages (from optuna) (3.10.1)\n",
            "Requirement already satisfied: alembic in /usr/local/lib/python3.7/dist-packages (from optuna) (1.7.7)\n",
            "Requirement already satisfied: colorlog in /usr/local/lib/python3.7/dist-packages (from optuna) (6.6.0)\n",
            "Requirement already satisfied: pyparsing!=3.0.5,>=2.0.2 in /usr/local/lib/python3.7/dist-packages (from packaging>=20.0->optuna) (3.0.7)\n",
            "Requirement already satisfied: importlib-metadata in /usr/local/lib/python3.7/dist-packages (from sqlalchemy>=1.1.0->optuna) (4.11.3)\n",
            "Requirement already satisfied: greenlet!=0.4.17 in /usr/local/lib/python3.7/dist-packages (from sqlalchemy>=1.1.0->optuna) (1.1.2)\n",
            "Requirement already satisfied: importlib-resources in /usr/local/lib/python3.7/dist-packages (from alembic->optuna) (5.4.0)\n",
            "Requirement already satisfied: Mako in /usr/local/lib/python3.7/dist-packages (from alembic->optuna) (1.2.0)\n",
            "Requirement already satisfied: pbr!=2.1.0,>=2.0.0 in /usr/local/lib/python3.7/dist-packages (from cliff->optuna) (5.8.1)\n",
            "Requirement already satisfied: autopage>=0.4.0 in /usr/local/lib/python3.7/dist-packages (from cliff->optuna) (0.5.0)\n",
            "Requirement already satisfied: stevedore>=2.0.1 in /usr/local/lib/python3.7/dist-packages (from cliff->optuna) (3.5.0)\n",
            "Requirement already satisfied: PrettyTable>=0.7.2 in /usr/local/lib/python3.7/dist-packages (from cliff->optuna) (3.2.0)\n",
            "Requirement already satisfied: cmd2>=1.0.0 in /usr/local/lib/python3.7/dist-packages (from cliff->optuna) (2.4.0)\n",
            "Requirement already satisfied: pyperclip>=1.6 in /usr/local/lib/python3.7/dist-packages (from cmd2>=1.0.0->cliff->optuna) (1.8.2)\n",
            "Requirement already satisfied: attrs>=16.3.0 in /usr/local/lib/python3.7/dist-packages (from cmd2>=1.0.0->cliff->optuna) (21.4.0)\n",
            "Requirement already satisfied: typing-extensions in /usr/local/lib/python3.7/dist-packages (from cmd2>=1.0.0->cliff->optuna) (3.10.0.2)\n",
            "Requirement already satisfied: wcwidth>=0.1.7 in /usr/local/lib/python3.7/dist-packages (from cmd2>=1.0.0->cliff->optuna) (0.2.5)\n",
            "Requirement already satisfied: zipp>=0.5 in /usr/local/lib/python3.7/dist-packages (from importlib-metadata->sqlalchemy>=1.1.0->optuna) (3.7.0)\n",
            "Requirement already satisfied: MarkupSafe>=0.9.2 in /usr/local/lib/python3.7/dist-packages (from Mako->alembic->optuna) (2.0.1)\n"
          ]
        }
      ]
    },
    {
      "cell_type": "code",
      "execution_count": null,
      "metadata": {
        "id": "XF4Q5YUe6yxJ"
      },
      "outputs": [],
      "source": [
        "# 필요한 라이브러리 import\n",
        "import pandas as pd\n",
        "import numpy as np\n",
        "import matplotlib.pyplot as plt\n",
        "import seaborn as sns\n",
        "from tqdm import tqdm\n",
        "from sklearn.linear_model import LinearRegression, ElasticNet, Lasso, Ridge\n",
        "from sklearn.tree import DecisionTreeRegressor\n",
        "from sklearn.ensemble import RandomForestRegressor\n",
        "from sklearn.preprocessing import  LabelEncoder\n",
        "from sklearn.model_selection import TimeSeriesSplit\n",
        "from sklearn.metrics import mean_squared_error\n",
        "import xgboost as xgb\n",
        "import lightgbm as lgb\n",
        "import re\n",
        "import optuna\n",
        "from optuna.integration import XGBoostPruningCallback\n",
        "sns.set_theme(style=\"darkgrid\")"
      ]
    },
    {
      "cell_type": "code",
      "source": [
        "from google.colab import drive\n",
        "drive.mount('/content/drive')"
      ],
      "metadata": {
        "colab": {
          "base_uri": "https://localhost:8080/"
        },
        "id": "oG1iMtTS61ki",
        "outputId": "7ecaf0b1-2be1-4e41-f885-71c52ae714f7"
      },
      "execution_count": null,
      "outputs": [
        {
          "output_type": "stream",
          "name": "stdout",
          "text": [
            "Drive already mounted at /content/drive; to attempt to forcibly remount, call drive.mount(\"/content/drive\", force_remount=True).\n"
          ]
        }
      ]
    },
    {
      "cell_type": "code",
      "execution_count": null,
      "metadata": {
        "id": "XmJ8UxvBphg_"
      },
      "outputs": [],
      "source": [
        "# data 불러오기\n",
        "df = pd.read_csv('/content/drive/MyDrive/ZDRSJ/ML/data/ml_data.csv')"
      ]
    },
    {
      "cell_type": "code",
      "source": [
        "df.drop('Unnamed: 0', axis=1, inplace= True)\n",
        "df.head(5)"
      ],
      "metadata": {
        "colab": {
          "base_uri": "https://localhost:8080/",
          "height": 334
        },
        "id": "UWYmV_YC9JK6",
        "outputId": "63f504bb-0034-4473-84b4-cf771a8d87f2"
      },
      "execution_count": null,
      "outputs": [
        {
          "output_type": "execute_result",
          "data": {
            "text/plain": [
              "   year  전용면적(㎡)_x  price  employment_rate(%)   GDP(won)  economysc  \\\n",
              "0  2012         59  21356                59.6  1514736.6       92.0   \n",
              "1  2012         84  25238                59.6  1514736.6       92.0   \n",
              "2  2012        101  30607                59.6  1514736.6       92.0   \n",
              "3  2012        124  37333                59.6  1514736.6       92.0   \n",
              "4  2012        153  38075                59.6  1514736.6       92.0   \n",
              "\n",
              "   consumeprc  migrationpop  bankloan(1bw)  room  ...  enc_주교동  enc_주엽동  \\\n",
              "0       106.3        4562.0      1099781.8     3  ...        0        0   \n",
              "1       106.3        4562.0      1099781.8     3  ...        0        0   \n",
              "2       106.3        4562.0      1099781.8     3  ...        0        0   \n",
              "3       106.3        4562.0      1099781.8     3  ...        0        0   \n",
              "4       106.3        4562.0      1099781.8     3  ...        0        0   \n",
              "\n",
              "   enc_중산동  enc_지축동  enc_탄현동  enc_토당동  enc_풍동  enc_행신동  enc_향동동  enc_화정동  \n",
              "0        0        0        0        0       0        0        0        0  \n",
              "1        0        0        0        0       0        0        0        0  \n",
              "2        0        0        0        0       0        0        0        0  \n",
              "3        0        0        0        0       0        0        0        0  \n",
              "4        0        0        0        0       0        0        0        0  \n",
              "\n",
              "[5 rows x 42 columns]"
            ],
            "text/html": [
              "\n",
              "  <div id=\"df-ff4e1034-401a-4be4-b870-1897b0537474\">\n",
              "    <div class=\"colab-df-container\">\n",
              "      <div>\n",
              "<style scoped>\n",
              "    .dataframe tbody tr th:only-of-type {\n",
              "        vertical-align: middle;\n",
              "    }\n",
              "\n",
              "    .dataframe tbody tr th {\n",
              "        vertical-align: top;\n",
              "    }\n",
              "\n",
              "    .dataframe thead th {\n",
              "        text-align: right;\n",
              "    }\n",
              "</style>\n",
              "<table border=\"1\" class=\"dataframe\">\n",
              "  <thead>\n",
              "    <tr style=\"text-align: right;\">\n",
              "      <th></th>\n",
              "      <th>year</th>\n",
              "      <th>전용면적(㎡)_x</th>\n",
              "      <th>price</th>\n",
              "      <th>employment_rate(%)</th>\n",
              "      <th>GDP(won)</th>\n",
              "      <th>economysc</th>\n",
              "      <th>consumeprc</th>\n",
              "      <th>migrationpop</th>\n",
              "      <th>bankloan(1bw)</th>\n",
              "      <th>room</th>\n",
              "      <th>...</th>\n",
              "      <th>enc_주교동</th>\n",
              "      <th>enc_주엽동</th>\n",
              "      <th>enc_중산동</th>\n",
              "      <th>enc_지축동</th>\n",
              "      <th>enc_탄현동</th>\n",
              "      <th>enc_토당동</th>\n",
              "      <th>enc_풍동</th>\n",
              "      <th>enc_행신동</th>\n",
              "      <th>enc_향동동</th>\n",
              "      <th>enc_화정동</th>\n",
              "    </tr>\n",
              "  </thead>\n",
              "  <tbody>\n",
              "    <tr>\n",
              "      <th>0</th>\n",
              "      <td>2012</td>\n",
              "      <td>59</td>\n",
              "      <td>21356</td>\n",
              "      <td>59.6</td>\n",
              "      <td>1514736.6</td>\n",
              "      <td>92.0</td>\n",
              "      <td>106.3</td>\n",
              "      <td>4562.0</td>\n",
              "      <td>1099781.8</td>\n",
              "      <td>3</td>\n",
              "      <td>...</td>\n",
              "      <td>0</td>\n",
              "      <td>0</td>\n",
              "      <td>0</td>\n",
              "      <td>0</td>\n",
              "      <td>0</td>\n",
              "      <td>0</td>\n",
              "      <td>0</td>\n",
              "      <td>0</td>\n",
              "      <td>0</td>\n",
              "      <td>0</td>\n",
              "    </tr>\n",
              "    <tr>\n",
              "      <th>1</th>\n",
              "      <td>2012</td>\n",
              "      <td>84</td>\n",
              "      <td>25238</td>\n",
              "      <td>59.6</td>\n",
              "      <td>1514736.6</td>\n",
              "      <td>92.0</td>\n",
              "      <td>106.3</td>\n",
              "      <td>4562.0</td>\n",
              "      <td>1099781.8</td>\n",
              "      <td>3</td>\n",
              "      <td>...</td>\n",
              "      <td>0</td>\n",
              "      <td>0</td>\n",
              "      <td>0</td>\n",
              "      <td>0</td>\n",
              "      <td>0</td>\n",
              "      <td>0</td>\n",
              "      <td>0</td>\n",
              "      <td>0</td>\n",
              "      <td>0</td>\n",
              "      <td>0</td>\n",
              "    </tr>\n",
              "    <tr>\n",
              "      <th>2</th>\n",
              "      <td>2012</td>\n",
              "      <td>101</td>\n",
              "      <td>30607</td>\n",
              "      <td>59.6</td>\n",
              "      <td>1514736.6</td>\n",
              "      <td>92.0</td>\n",
              "      <td>106.3</td>\n",
              "      <td>4562.0</td>\n",
              "      <td>1099781.8</td>\n",
              "      <td>3</td>\n",
              "      <td>...</td>\n",
              "      <td>0</td>\n",
              "      <td>0</td>\n",
              "      <td>0</td>\n",
              "      <td>0</td>\n",
              "      <td>0</td>\n",
              "      <td>0</td>\n",
              "      <td>0</td>\n",
              "      <td>0</td>\n",
              "      <td>0</td>\n",
              "      <td>0</td>\n",
              "    </tr>\n",
              "    <tr>\n",
              "      <th>3</th>\n",
              "      <td>2012</td>\n",
              "      <td>124</td>\n",
              "      <td>37333</td>\n",
              "      <td>59.6</td>\n",
              "      <td>1514736.6</td>\n",
              "      <td>92.0</td>\n",
              "      <td>106.3</td>\n",
              "      <td>4562.0</td>\n",
              "      <td>1099781.8</td>\n",
              "      <td>3</td>\n",
              "      <td>...</td>\n",
              "      <td>0</td>\n",
              "      <td>0</td>\n",
              "      <td>0</td>\n",
              "      <td>0</td>\n",
              "      <td>0</td>\n",
              "      <td>0</td>\n",
              "      <td>0</td>\n",
              "      <td>0</td>\n",
              "      <td>0</td>\n",
              "      <td>0</td>\n",
              "    </tr>\n",
              "    <tr>\n",
              "      <th>4</th>\n",
              "      <td>2012</td>\n",
              "      <td>153</td>\n",
              "      <td>38075</td>\n",
              "      <td>59.6</td>\n",
              "      <td>1514736.6</td>\n",
              "      <td>92.0</td>\n",
              "      <td>106.3</td>\n",
              "      <td>4562.0</td>\n",
              "      <td>1099781.8</td>\n",
              "      <td>3</td>\n",
              "      <td>...</td>\n",
              "      <td>0</td>\n",
              "      <td>0</td>\n",
              "      <td>0</td>\n",
              "      <td>0</td>\n",
              "      <td>0</td>\n",
              "      <td>0</td>\n",
              "      <td>0</td>\n",
              "      <td>0</td>\n",
              "      <td>0</td>\n",
              "      <td>0</td>\n",
              "    </tr>\n",
              "  </tbody>\n",
              "</table>\n",
              "<p>5 rows × 42 columns</p>\n",
              "</div>\n",
              "      <button class=\"colab-df-convert\" onclick=\"convertToInteractive('df-ff4e1034-401a-4be4-b870-1897b0537474')\"\n",
              "              title=\"Convert this dataframe to an interactive table.\"\n",
              "              style=\"display:none;\">\n",
              "        \n",
              "  <svg xmlns=\"http://www.w3.org/2000/svg\" height=\"24px\"viewBox=\"0 0 24 24\"\n",
              "       width=\"24px\">\n",
              "    <path d=\"M0 0h24v24H0V0z\" fill=\"none\"/>\n",
              "    <path d=\"M18.56 5.44l.94 2.06.94-2.06 2.06-.94-2.06-.94-.94-2.06-.94 2.06-2.06.94zm-11 1L8.5 8.5l.94-2.06 2.06-.94-2.06-.94L8.5 2.5l-.94 2.06-2.06.94zm10 10l.94 2.06.94-2.06 2.06-.94-2.06-.94-.94-2.06-.94 2.06-2.06.94z\"/><path d=\"M17.41 7.96l-1.37-1.37c-.4-.4-.92-.59-1.43-.59-.52 0-1.04.2-1.43.59L10.3 9.45l-7.72 7.72c-.78.78-.78 2.05 0 2.83L4 21.41c.39.39.9.59 1.41.59.51 0 1.02-.2 1.41-.59l7.78-7.78 2.81-2.81c.8-.78.8-2.07 0-2.86zM5.41 20L4 18.59l7.72-7.72 1.47 1.35L5.41 20z\"/>\n",
              "  </svg>\n",
              "      </button>\n",
              "      \n",
              "  <style>\n",
              "    .colab-df-container {\n",
              "      display:flex;\n",
              "      flex-wrap:wrap;\n",
              "      gap: 12px;\n",
              "    }\n",
              "\n",
              "    .colab-df-convert {\n",
              "      background-color: #E8F0FE;\n",
              "      border: none;\n",
              "      border-radius: 50%;\n",
              "      cursor: pointer;\n",
              "      display: none;\n",
              "      fill: #1967D2;\n",
              "      height: 32px;\n",
              "      padding: 0 0 0 0;\n",
              "      width: 32px;\n",
              "    }\n",
              "\n",
              "    .colab-df-convert:hover {\n",
              "      background-color: #E2EBFA;\n",
              "      box-shadow: 0px 1px 2px rgba(60, 64, 67, 0.3), 0px 1px 3px 1px rgba(60, 64, 67, 0.15);\n",
              "      fill: #174EA6;\n",
              "    }\n",
              "\n",
              "    [theme=dark] .colab-df-convert {\n",
              "      background-color: #3B4455;\n",
              "      fill: #D2E3FC;\n",
              "    }\n",
              "\n",
              "    [theme=dark] .colab-df-convert:hover {\n",
              "      background-color: #434B5C;\n",
              "      box-shadow: 0px 1px 3px 1px rgba(0, 0, 0, 0.15);\n",
              "      filter: drop-shadow(0px 1px 2px rgba(0, 0, 0, 0.3));\n",
              "      fill: #FFFFFF;\n",
              "    }\n",
              "  </style>\n",
              "\n",
              "      <script>\n",
              "        const buttonEl =\n",
              "          document.querySelector('#df-ff4e1034-401a-4be4-b870-1897b0537474 button.colab-df-convert');\n",
              "        buttonEl.style.display =\n",
              "          google.colab.kernel.accessAllowed ? 'block' : 'none';\n",
              "\n",
              "        async function convertToInteractive(key) {\n",
              "          const element = document.querySelector('#df-ff4e1034-401a-4be4-b870-1897b0537474');\n",
              "          const dataTable =\n",
              "            await google.colab.kernel.invokeFunction('convertToInteractive',\n",
              "                                                     [key], {});\n",
              "          if (!dataTable) return;\n",
              "\n",
              "          const docLinkHtml = 'Like what you see? Visit the ' +\n",
              "            '<a target=\"_blank\" href=https://colab.research.google.com/notebooks/data_table.ipynb>data table notebook</a>'\n",
              "            + ' to learn more about interactive tables.';\n",
              "          element.innerHTML = '';\n",
              "          dataTable['output_type'] = 'display_data';\n",
              "          await google.colab.output.renderOutput(dataTable, element);\n",
              "          const docLink = document.createElement('div');\n",
              "          docLink.innerHTML = docLinkHtml;\n",
              "          element.appendChild(docLink);\n",
              "        }\n",
              "      </script>\n",
              "    </div>\n",
              "  </div>\n",
              "  "
            ]
          },
          "metadata": {},
          "execution_count": 5
        }
      ]
    },
    {
      "cell_type": "code",
      "source": [
        "\n",
        "# train-test분리\n",
        "cut = int(len(df)*0.8) # traun, valid 80:20 으로 split\n",
        "train_tmp = df[:cut]\n",
        "test = df[cut:]\n",
        "df = train_tmp"
      ],
      "metadata": {
        "id": "ktcOvoYCGm_l"
      },
      "execution_count": null,
      "outputs": []
    },
    {
      "cell_type": "code",
      "execution_count": null,
      "metadata": {
        "id": "oYxAkKR8qFOJ"
      },
      "outputs": [],
      "source": [
        "# 교차 검증 \n",
        "# 모델 선정 위해 (XGB, LGB) 모델의 성능 비교\n",
        "\n",
        "'''\n",
        " 시계열 데이터 - TimeSeriesSplit 기법을 사용\n",
        " 10개의 폴드로 구분\n",
        "  1) 과거의 데이터부터 끊어서 학습\n",
        "  2) 다음 폴드부터 이전 폴드까지 이용하여 반복적으로 교차검증\n",
        "  3) 미래의 데이터는 절대 학습하지 않으며 무조건 검증으로 사용됨\n",
        "'''\n",
        "\n",
        "\n",
        "def RMSE(y, y_pred):\n",
        "    rmse = mean_squared_error(y, y_pred) ** 0.5 \n",
        "    return rmse\n",
        "\n",
        "def rmse_cv(model):\n",
        "    # cv별로 학습하는 함수\n",
        "    tscv = TimeSeriesSplit(n_splits=10) # 10개의 폴드로 구분\n",
        "    rmse_list = []\n",
        "    model_name = model.__class__.__name__\n",
        "    for _, (train_index, test_index) in tqdm(enumerate(tscv.split(train_X), start=1), desc=f'{model_name} Cross Validations...', total=10):\n",
        "        X_train, X_test = train_X.iloc[train_index], train_X.iloc[test_index]\n",
        "        y_train, y_test = train_y.iloc[train_index], train_y.iloc[test_index]\n",
        "        clf = model.fit(X_train, y_train)\n",
        "        pred = clf.predict(X_test)\n",
        "        rmse = RMSE(y_test, pred) \n",
        "        rmse_list.append(rmse)\n",
        "    return model_name, rmse_list\n",
        "\n",
        "def print_rmse_score(model):\n",
        "    # cv별 프린팅, 평균 저장\n",
        "    model_name, score = rmse_cv(model)\n",
        "    for i, r in enumerate(score, start=1):\n",
        "        print(f'{i} FOLDS: {model_name} RMSLE: {r:.4f}')\n",
        "    print(f'\\n{model_name} mean RMSLE: {np.mean(score):.4f}')\n",
        "    print('='*40)\n",
        "    return model_name, np.mean(score)"
      ]
    },
    {
      "cell_type": "code",
      "source": [
        "# # 모델 성능 확인용 dataframe - 단지명, adr_dong 제거\n",
        "\n",
        "# df_tmp = df.drop(df[['단지명','adr_dong']], axis=1)\n",
        "# df_tmp.head()"
      ],
      "metadata": {
        "id": "pYLAA46j8kb_"
      },
      "execution_count": null,
      "outputs": []
    },
    {
      "cell_type": "code",
      "execution_count": null,
      "metadata": {
        "id": "OsA7oTuvqIy5"
      },
      "outputs": [],
      "source": [
        "# XGB, LGB 모델 설정 \n",
        "\n",
        "model_xgb = xgb.XGBRegressor(n_estimators=500, max_depth=9, min_child_weight=5, gamma=0.1, n_jobs=-1)\n",
        "model_lgb = lgb.LGBMRegressor(n_estimators=500, max_depth=9, min_child_weight=5, n_jobs=-1)"
      ]
    },
    {
      "cell_type": "code",
      "execution_count": null,
      "metadata": {
        "id": "eufT7cTMqQwi",
        "colab": {
          "base_uri": "https://localhost:8080/"
        },
        "outputId": "2e0be355-2ace-49f2-982c-0ec9406a9704"
      },
      "outputs": [
        {
          "output_type": "stream",
          "name": "stderr",
          "text": [
            "\rXGBRegressor Cross Validations...:   0%|          | 0/10 [00:00<?, ?it/s]"
          ]
        },
        {
          "output_type": "stream",
          "name": "stdout",
          "text": [
            "[07:05:03] WARNING: /workspace/src/objective/regression_obj.cu:152: reg:linear is now deprecated in favor of reg:squarederror.\n"
          ]
        },
        {
          "output_type": "stream",
          "name": "stderr",
          "text": [
            "\rXGBRegressor Cross Validations...:  10%|█         | 1/10 [00:02<00:18,  2.03s/it]"
          ]
        },
        {
          "output_type": "stream",
          "name": "stdout",
          "text": [
            "[07:05:05] WARNING: /workspace/src/objective/regression_obj.cu:152: reg:linear is now deprecated in favor of reg:squarederror.\n"
          ]
        },
        {
          "output_type": "stream",
          "name": "stderr",
          "text": [
            "\rXGBRegressor Cross Validations...:  20%|██        | 2/10 [00:14<01:06,  8.26s/it]"
          ]
        },
        {
          "output_type": "stream",
          "name": "stdout",
          "text": [
            "[07:05:17] WARNING: /workspace/src/objective/regression_obj.cu:152: reg:linear is now deprecated in favor of reg:squarederror.\n"
          ]
        },
        {
          "output_type": "stream",
          "name": "stderr",
          "text": [
            "\rXGBRegressor Cross Validations...:  30%|███       | 3/10 [00:35<01:38, 14.09s/it]"
          ]
        },
        {
          "output_type": "stream",
          "name": "stdout",
          "text": [
            "[07:05:38] WARNING: /workspace/src/objective/regression_obj.cu:152: reg:linear is now deprecated in favor of reg:squarederror.\n"
          ]
        },
        {
          "output_type": "stream",
          "name": "stderr",
          "text": [
            "\rXGBRegressor Cross Validations...:  40%|████      | 4/10 [00:40<01:02, 10.41s/it]"
          ]
        },
        {
          "output_type": "stream",
          "name": "stdout",
          "text": [
            "[07:05:43] WARNING: /workspace/src/objective/regression_obj.cu:152: reg:linear is now deprecated in favor of reg:squarederror.\n"
          ]
        },
        {
          "output_type": "stream",
          "name": "stderr",
          "text": [
            "\rXGBRegressor Cross Validations...:  50%|█████     | 5/10 [00:46<00:43,  8.77s/it]"
          ]
        },
        {
          "output_type": "stream",
          "name": "stdout",
          "text": [
            "[07:05:49] WARNING: /workspace/src/objective/regression_obj.cu:152: reg:linear is now deprecated in favor of reg:squarederror.\n"
          ]
        },
        {
          "output_type": "stream",
          "name": "stderr",
          "text": [
            "\rXGBRegressor Cross Validations...:  60%|██████    | 6/10 [00:53<00:32,  8.22s/it]"
          ]
        },
        {
          "output_type": "stream",
          "name": "stdout",
          "text": [
            "[07:05:56] WARNING: /workspace/src/objective/regression_obj.cu:152: reg:linear is now deprecated in favor of reg:squarederror.\n"
          ]
        },
        {
          "output_type": "stream",
          "name": "stderr",
          "text": [
            "\rXGBRegressor Cross Validations...:  70%|███████   | 7/10 [01:01<00:24,  8.27s/it]"
          ]
        },
        {
          "output_type": "stream",
          "name": "stdout",
          "text": [
            "[07:06:04] WARNING: /workspace/src/objective/regression_obj.cu:152: reg:linear is now deprecated in favor of reg:squarederror.\n"
          ]
        },
        {
          "output_type": "stream",
          "name": "stderr",
          "text": [
            "\rXGBRegressor Cross Validations...:  80%|████████  | 8/10 [01:11<00:17,  8.66s/it]"
          ]
        },
        {
          "output_type": "stream",
          "name": "stdout",
          "text": [
            "[07:06:14] WARNING: /workspace/src/objective/regression_obj.cu:152: reg:linear is now deprecated in favor of reg:squarederror.\n"
          ]
        },
        {
          "output_type": "stream",
          "name": "stderr",
          "text": [
            "\rXGBRegressor Cross Validations...:  90%|█████████ | 9/10 [01:22<00:09,  9.38s/it]"
          ]
        },
        {
          "output_type": "stream",
          "name": "stdout",
          "text": [
            "[07:06:25] WARNING: /workspace/src/objective/regression_obj.cu:152: reg:linear is now deprecated in favor of reg:squarederror.\n"
          ]
        },
        {
          "output_type": "stream",
          "name": "stderr",
          "text": [
            "XGBRegressor Cross Validations...: 100%|██████████| 10/10 [01:34<00:00,  9.44s/it]\n"
          ]
        },
        {
          "output_type": "stream",
          "name": "stdout",
          "text": [
            "1 FOLDS: XGBRegressor RMSLE: 7146.1535\n",
            "2 FOLDS: XGBRegressor RMSLE: 3783.9758\n",
            "3 FOLDS: XGBRegressor RMSLE: 3729.7018\n",
            "4 FOLDS: XGBRegressor RMSLE: 3844.2724\n",
            "5 FOLDS: XGBRegressor RMSLE: 5345.7513\n",
            "6 FOLDS: XGBRegressor RMSLE: 4065.4309\n",
            "7 FOLDS: XGBRegressor RMSLE: 4800.1294\n",
            "8 FOLDS: XGBRegressor RMSLE: 12842.9119\n",
            "9 FOLDS: XGBRegressor RMSLE: 11442.9825\n",
            "10 FOLDS: XGBRegressor RMSLE: 13235.4239\n",
            "\n",
            "XGBRegressor mean RMSLE: 7023.6734\n",
            "========================================\n"
          ]
        },
        {
          "output_type": "stream",
          "name": "stderr",
          "text": [
            "LGBMRegressor Cross Validations...: 100%|██████████| 10/10 [00:05<00:00,  1.83it/s]"
          ]
        },
        {
          "output_type": "stream",
          "name": "stdout",
          "text": [
            "1 FOLDS: LGBMRegressor RMSLE: 7508.1104\n",
            "2 FOLDS: LGBMRegressor RMSLE: 4220.6466\n",
            "3 FOLDS: LGBMRegressor RMSLE: 3850.0369\n",
            "4 FOLDS: LGBMRegressor RMSLE: 4141.6545\n",
            "5 FOLDS: LGBMRegressor RMSLE: 6472.0819\n",
            "6 FOLDS: LGBMRegressor RMSLE: 4262.0518\n",
            "7 FOLDS: LGBMRegressor RMSLE: 4861.7147\n",
            "8 FOLDS: LGBMRegressor RMSLE: 13713.1906\n",
            "9 FOLDS: LGBMRegressor RMSLE: 11111.8794\n",
            "10 FOLDS: LGBMRegressor RMSLE: 13615.7207\n",
            "\n",
            "LGBMRegressor mean RMSLE: 7375.7087\n",
            "========================================\n"
          ]
        },
        {
          "output_type": "stream",
          "name": "stderr",
          "text": [
            "\n"
          ]
        }
      ],
      "source": [
        "\n",
        "models = []\n",
        "scores = []\n",
        "for model in [model_xgb, model_lgb]:\n",
        "    model_name, mean_score = print_rmse_score(model)\n",
        "    models.append(model_name)\n",
        "    scores.append(mean_score)"
      ]
    },
    {
      "cell_type": "code",
      "execution_count": null,
      "metadata": {
        "id": "CWVMv45UrBf6",
        "colab": {
          "base_uri": "https://localhost:8080/",
          "height": 112
        },
        "outputId": "a98d1d65-5799-44f7-e784-70dc40dc7b53"
      },
      "outputs": [
        {
          "output_type": "execute_result",
          "data": {
            "text/plain": [
              "           Model        Score\n",
              "0   XGBRegressor  7023.673362\n",
              "1  LGBMRegressor  7375.708732"
            ],
            "text/html": [
              "\n",
              "  <div id=\"df-8f2abff7-96d8-45e0-9155-2eec4ef5e2b4\">\n",
              "    <div class=\"colab-df-container\">\n",
              "      <div>\n",
              "<style scoped>\n",
              "    .dataframe tbody tr th:only-of-type {\n",
              "        vertical-align: middle;\n",
              "    }\n",
              "\n",
              "    .dataframe tbody tr th {\n",
              "        vertical-align: top;\n",
              "    }\n",
              "\n",
              "    .dataframe thead th {\n",
              "        text-align: right;\n",
              "    }\n",
              "</style>\n",
              "<table border=\"1\" class=\"dataframe\">\n",
              "  <thead>\n",
              "    <tr style=\"text-align: right;\">\n",
              "      <th></th>\n",
              "      <th>Model</th>\n",
              "      <th>Score</th>\n",
              "    </tr>\n",
              "  </thead>\n",
              "  <tbody>\n",
              "    <tr>\n",
              "      <th>0</th>\n",
              "      <td>XGBRegressor</td>\n",
              "      <td>7023.673362</td>\n",
              "    </tr>\n",
              "    <tr>\n",
              "      <th>1</th>\n",
              "      <td>LGBMRegressor</td>\n",
              "      <td>7375.708732</td>\n",
              "    </tr>\n",
              "  </tbody>\n",
              "</table>\n",
              "</div>\n",
              "      <button class=\"colab-df-convert\" onclick=\"convertToInteractive('df-8f2abff7-96d8-45e0-9155-2eec4ef5e2b4')\"\n",
              "              title=\"Convert this dataframe to an interactive table.\"\n",
              "              style=\"display:none;\">\n",
              "        \n",
              "  <svg xmlns=\"http://www.w3.org/2000/svg\" height=\"24px\"viewBox=\"0 0 24 24\"\n",
              "       width=\"24px\">\n",
              "    <path d=\"M0 0h24v24H0V0z\" fill=\"none\"/>\n",
              "    <path d=\"M18.56 5.44l.94 2.06.94-2.06 2.06-.94-2.06-.94-.94-2.06-.94 2.06-2.06.94zm-11 1L8.5 8.5l.94-2.06 2.06-.94-2.06-.94L8.5 2.5l-.94 2.06-2.06.94zm10 10l.94 2.06.94-2.06 2.06-.94-2.06-.94-.94-2.06-.94 2.06-2.06.94z\"/><path d=\"M17.41 7.96l-1.37-1.37c-.4-.4-.92-.59-1.43-.59-.52 0-1.04.2-1.43.59L10.3 9.45l-7.72 7.72c-.78.78-.78 2.05 0 2.83L4 21.41c.39.39.9.59 1.41.59.51 0 1.02-.2 1.41-.59l7.78-7.78 2.81-2.81c.8-.78.8-2.07 0-2.86zM5.41 20L4 18.59l7.72-7.72 1.47 1.35L5.41 20z\"/>\n",
              "  </svg>\n",
              "      </button>\n",
              "      \n",
              "  <style>\n",
              "    .colab-df-container {\n",
              "      display:flex;\n",
              "      flex-wrap:wrap;\n",
              "      gap: 12px;\n",
              "    }\n",
              "\n",
              "    .colab-df-convert {\n",
              "      background-color: #E8F0FE;\n",
              "      border: none;\n",
              "      border-radius: 50%;\n",
              "      cursor: pointer;\n",
              "      display: none;\n",
              "      fill: #1967D2;\n",
              "      height: 32px;\n",
              "      padding: 0 0 0 0;\n",
              "      width: 32px;\n",
              "    }\n",
              "\n",
              "    .colab-df-convert:hover {\n",
              "      background-color: #E2EBFA;\n",
              "      box-shadow: 0px 1px 2px rgba(60, 64, 67, 0.3), 0px 1px 3px 1px rgba(60, 64, 67, 0.15);\n",
              "      fill: #174EA6;\n",
              "    }\n",
              "\n",
              "    [theme=dark] .colab-df-convert {\n",
              "      background-color: #3B4455;\n",
              "      fill: #D2E3FC;\n",
              "    }\n",
              "\n",
              "    [theme=dark] .colab-df-convert:hover {\n",
              "      background-color: #434B5C;\n",
              "      box-shadow: 0px 1px 3px 1px rgba(0, 0, 0, 0.15);\n",
              "      filter: drop-shadow(0px 1px 2px rgba(0, 0, 0, 0.3));\n",
              "      fill: #FFFFFF;\n",
              "    }\n",
              "  </style>\n",
              "\n",
              "      <script>\n",
              "        const buttonEl =\n",
              "          document.querySelector('#df-8f2abff7-96d8-45e0-9155-2eec4ef5e2b4 button.colab-df-convert');\n",
              "        buttonEl.style.display =\n",
              "          google.colab.kernel.accessAllowed ? 'block' : 'none';\n",
              "\n",
              "        async function convertToInteractive(key) {\n",
              "          const element = document.querySelector('#df-8f2abff7-96d8-45e0-9155-2eec4ef5e2b4');\n",
              "          const dataTable =\n",
              "            await google.colab.kernel.invokeFunction('convertToInteractive',\n",
              "                                                     [key], {});\n",
              "          if (!dataTable) return;\n",
              "\n",
              "          const docLinkHtml = 'Like what you see? Visit the ' +\n",
              "            '<a target=\"_blank\" href=https://colab.research.google.com/notebooks/data_table.ipynb>data table notebook</a>'\n",
              "            + ' to learn more about interactive tables.';\n",
              "          element.innerHTML = '';\n",
              "          dataTable['output_type'] = 'display_data';\n",
              "          await google.colab.output.renderOutput(dataTable, element);\n",
              "          const docLink = document.createElement('div');\n",
              "          docLink.innerHTML = docLinkHtml;\n",
              "          element.appendChild(docLink);\n",
              "        }\n",
              "      </script>\n",
              "    </div>\n",
              "  </div>\n",
              "  "
            ]
          },
          "metadata": {},
          "execution_count": 11
        }
      ],
      "source": [
        "result_df = pd.DataFrame({'Model': models, 'Score': scores}).reset_index(drop=True)\n",
        "result_df"
      ]
    },
    {
      "cell_type": "code",
      "execution_count": null,
      "metadata": {
        "id": "3Y4t4NdxrFOb",
        "colab": {
          "base_uri": "https://localhost:8080/",
          "height": 490
        },
        "outputId": "35f28463-930c-4d31-8630-79ca621d977f"
      },
      "outputs": [
        {
          "output_type": "display_data",
          "data": {
            "text/plain": [
              "<Figure size 720x432 with 1 Axes>"
            ],
            "image/png": "[encoded data removed]"
          },
          "metadata": {}
        }
      ],
      "source": [
        "# 모델 성능 시각화하여 확인\n",
        "\n",
        "f, ax = plt.subplots(figsize=(10, 6))\n",
        "plt.xticks(rotation='90')\n",
        "sns.barplot(x=result_df['Model'], y=result_df['Score'])\n",
        "plt.xlabel('Models', fontsize=15)\n",
        "plt.ylabel('Model Performance', fontsize=15)\n",
        "plt.ylim(0.22, 0.32)\n",
        "plt.title('RMSLE', fontsize=15)\n",
        "plt.show()"
      ]
    },
    {
      "cell_type": "code",
      "execution_count": null,
      "metadata": {
        "id": "ueAMQcSBsyKC",
        "colab": {
          "base_uri": "https://localhost:8080/"
        },
        "outputId": "811b6aeb-4762-4598-997e-c8d068861cb0"
      },
      "outputs": [
        {
          "output_type": "stream",
          "name": "stdout",
          "text": [
            "(9048, 41) (9048,) (2263, 41) (2263,)\n"
          ]
        }
      ],
      "source": [
        "# train, valid split \n",
        "\n",
        "cut = int(len(df)*0.8) # traun, valid 80:20 으로 split\n",
        "train = df[:cut]\n",
        "valid = df[cut:]\n",
        "\n",
        "train_X = train.drop('price', axis=1)\n",
        "train_y = train['price']\n",
        "valid_X = valid.drop('price', axis=1)\n",
        "valid_y = valid['price']\n",
        "print(train_X.shape, train_y.shape, valid_X.shape, valid_y.shape)"
      ]
    },
    {
      "cell_type": "code",
      "execution_count": null,
      "metadata": {
        "id": "jcMfY-1stXp5"
      },
      "outputs": [],
      "source": [
        "train_X.head()"
      ]
    },
    {
      "cell_type": "code",
      "execution_count": null,
      "metadata": {
        "id": "vjjGzY9vtmwt"
      },
      "outputs": [],
      "source": [
        "# 하이퍼 파라미터 튜닝\n",
        "# 시간 이슈 때문에 TimeSeriesSplit은 적용하지 않음\n",
        "\n",
        "from optuna.samplers import TPESampler\n",
        "\n",
        "sampler = TPESampler(seed=10)\n",
        "\n",
        "def objective(trial):\n",
        "    dtrain = lgb.Dataset(train_X, label=train_y)\n",
        "    dtest = lgb.Dataset(valid_X, label=valid_y)\n",
        "\n",
        "    param = {\n",
        "        'objective': 'regression', # 회귀\n",
        "        'verbose': -1,\n",
        "        'metric': 'rmse', \n",
        "        'max_depth': trial.suggest_int('max_depth',3, 15),\n",
        "        'learning_rate': trial.suggest_loguniform(\"learning_rate\", 1e-8, 1e-2),\n",
        "        'n_estimators': trial.suggest_int('n_estimators', 100, 3000),\n",
        "        'min_child_samples': trial.suggest_int('min_child_samples', 5, 100),\n",
        "        'subsample': trial.suggest_loguniform('subsample', 0.4, 1),\n",
        "    }\n",
        "\n",
        "    model = lgb.LGBMRegressor(**param)\n",
        "    lgb_model = model.fit(train_X, train_y, eval_set=[(valid_X, valid_y)], verbose=0, early_stopping_rounds=25)\n",
        "    rmse = RMSE(valid_y, lgb_model.predict(valid_X))\n",
        "    return rmse\n",
        "       \n",
        "study_lgb = optuna.create_study(direction='minimize', sampler=sampler)\n",
        "study_lgb.optimize(objective, n_trials=100)"
      ]
    },
    {
      "cell_type": "code",
      "execution_count": null,
      "metadata": {
        "id": "jodCKzuPuChB"
      },
      "outputs": [],
      "source": [
        "trial = study_lgb.best_trial\n",
        "trial_params = trial.params\n",
        "print('Best Trial: score {},\\nparams {}'.format(trial.value, trial_params))"
      ]
    },
    {
      "cell_type": "code",
      "source": [
        "# test = test.drop(test['price'], axis=1)"
      ],
      "metadata": {
        "id": "QRFr2U60JCHf"
      },
      "execution_count": null,
      "outputs": []
    },
    {
      "cell_type": "code",
      "execution_count": null,
      "metadata": {
        "id": "yyUzaPE0uODj"
      },
      "outputs": [],
      "source": [
        "# 데이터에 LightGBM model 적용\n",
        "\n",
        "final_lgb_model = lgb.LGBMRegressor(**trial_params)\n",
        "final_lgb_model.fit(train_X, train_y)\n",
        "final_lgb_pred = final_lgb_model.predict(test)"
      ]
    },
    {
      "cell_type": "code",
      "execution_count": null,
      "metadata": {
        "id": "ORdGmEgduZ3z"
      },
      "outputs": [],
      "source": [
        "final_lgb_pred"
      ]
    },
    {
      "cell_type": "code",
      "execution_count": null,
      "metadata": {
        "id": "voJ4h_TJub45"
      },
      "outputs": [],
      "source": [
        "plt.barh(train_X.columns, final_lgb_model.feature_importances_)"
      ]
    }
  ],
  "metadata": {
    "colab": {
      "collapsed_sections": [],
      "name": "zdrsj___modeling.ipynb",
      "provenance": []
    },
    "kernelspec": {
      "display_name": "Python 3",
      "name": "python3"
    },
    "language_info": {
      "codemirror_mode": {
        "name": "ipython",
        "version": 3
      },
      "file_extension": ".py",
      "mimetype": "text/x-python",
      "name": "python",
      "nbconvert_exporter": "python",
      "pygments_lexer": "ipython3",
      "version": "3.9.7"
    }
  },
  "nbformat": 4,
  "nbformat_minor": 0
}