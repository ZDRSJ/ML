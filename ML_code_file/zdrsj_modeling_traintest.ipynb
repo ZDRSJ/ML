{
  "cells": [
    {
      "cell_type": "code",
      "execution_count": null,
      "metadata": {
        "colab": {
          "base_uri": "https://localhost:8080/"
        },
        "id": "TLg4uxit67oO",
        "outputId": "7d1e2af0-2f3e-4366-b4e2-79bc893c614c"
      },
      "outputs": [],
      "source": [
        "# 필요 라이브러리 install\n",
        "! pip install xgboost\n",
        "! pip install optuna\n",
        "! pip install lightgbm"
      ]
    },
    {
      "cell_type": "code",
      "execution_count": null,
      "metadata": {
        "id": "XF4Q5YUe6yxJ"
      },
      "outputs": [],
      "source": [
        "# 필요한 라이브러리 import\n",
        "import pandas as pd\n",
        "import numpy as np\n",
        "import matplotlib.pyplot as plt\n",
        "import seaborn as sns\n",
        "from tqdm import tqdm\n",
        "from sklearn.linear_model import LinearRegression, ElasticNet, Lasso, Ridge\n",
        "from sklearn.tree import DecisionTreeRegressor\n",
        "from sklearn.ensemble import RandomForestRegressor\n",
        "from sklearn.preprocessing import  LabelEncoder\n",
        "from sklearn.model_selection import TimeSeriesSplit\n",
        "from sklearn.metrics import mean_squared_error\n",
        "import xgboost as xgb\n",
        "import lightgbm as lgb\n",
        "import re\n",
        "import optuna\n",
        "from optuna.integration import XGBoostPruningCallback\n",
        "sns.set_theme(style=\"darkgrid\")"
      ]
    },
    {
      "cell_type": "code",
      "execution_count": null,
      "metadata": {
        "colab": {
          "base_uri": "https://localhost:8080/"
        },
        "id": "oG1iMtTS61ki",
        "outputId": "38f3feb4-c9fc-4fd3-c523-695d2aaead87"
      },
      "outputs": [],
      "source": [
        "'''from google.colab import drive\n",
        "drive.mount('/gdrive', force_remount=True)\n",
        "\n",
        "import pandas as pd\n",
        "\n",
        "data_file= '/gdrive/My Drive/Colab Notebooks/경로폴더/ml_data.csv'\n",
        "df= pd.read_csv(data_file) '''"
      ]
    },
    {
      "cell_type": "code",
      "execution_count": null,
      "metadata": {},
      "outputs": [],
      "source": [
        "# 데이터 불러오기\n",
        "df = pd.read_csv('../data/ML_data.csv')\n",
        "\n",
        "df"
      ]
    },
    {
      "cell_type": "code",
      "execution_count": null,
      "metadata": {
        "colab": {
          "base_uri": "https://localhost:8080/",
          "height": 334
        },
        "id": "UWYmV_YC9JK6",
        "outputId": "8137c123-dca6-475e-f177-09f2382df10b"
      },
      "outputs": [],
      "source": [
        "df.drop('Unnamed: 0', axis=1, inplace= True)\n",
        "df.head(5)"
      ]
    },
    {
      "cell_type": "code",
      "execution_count": null,
      "metadata": {
        "id": "ktcOvoYCGm_l"
      },
      "outputs": [],
      "source": [
        "\n",
        "# train-test분리\n",
        "cut = int(len(df)*0.8) # traun, valid 80:20 으로 split\n",
        "train_tmp = df[:cut]\n",
        "test = df[cut:]\n",
        "df = train_tmp"
      ]
    },
    {
      "cell_type": "code",
      "execution_count": null,
      "metadata": {
        "colab": {
          "base_uri": "https://localhost:8080/"
        },
        "id": "6yV9De7yXmQM",
        "outputId": "e5c8b5a3-e6f1-4b52-9bbb-31defce6925d"
      },
      "outputs": [],
      "source": [
        "# train 데이터셋 분할\n",
        "\n",
        "train_X = test.drop('price', axis=1)\n",
        "train_y = test['price']\n",
        "\n",
        "print(train_X.shape, train_y.shape)"
      ]
    },
    {
      "cell_type": "code",
      "execution_count": null,
      "metadata": {
        "id": "oYxAkKR8qFOJ"
      },
      "outputs": [],
      "source": [
        "# 교차 검증 \n",
        "# 모델 선정 위해 (XGB, LGB) 모델의 성능 비교\n",
        "'''\n",
        " 시계열 데이터 - TimeSeriesSplit 기법을 사용\n",
        " 10개의 폴드로 구분\n",
        "  1) 과거의 데이터부터 끊어서 학습\n",
        "  2) 다음 폴드부터 이전 폴드까지 이용하여 반복적으로 교차검증\n",
        "  3) 미래의 데이터는 절대 학습하지 않으며 무조건 검증으로 사용됨\n",
        "'''\n",
        "\n",
        "\n",
        "def RMSE(y, y_pred):\n",
        "    rmse = mean_squared_error(y, y_pred) ** 0.5 \n",
        "    return rmse\n",
        "\n",
        "def rmse_cv(model):\n",
        "    # cv별로 학습하는 함수\n",
        "    tscv = TimeSeriesSplit(n_splits=10) # 10개의 폴드로 구분\n",
        "    rmse_list = []\n",
        "    model_name = model.__class__.__name__\n",
        "    for _, (train_index, test_index) in tqdm(enumerate(tscv.split(train_X), start=1), desc=f'{model_name} Cross Validations...', total=10):\n",
        "        X_train, X_test = train_X.iloc[train_index], train_X.iloc[test_index]\n",
        "        y_train, y_test = train_y.iloc[train_index], train_y.iloc[test_index]\n",
        "        clf = model.fit(X_train, y_train)\n",
        "        pred = clf.predict(X_test)\n",
        "        rmse = RMSE(y_test, pred) \n",
        "        rmse_list.append(rmse)\n",
        "    return model_name, rmse_list\n",
        "\n",
        "def print_rmse_score(model):\n",
        "    # cv별 프린팅, 평균 저장\n",
        "    model_name, score = rmse_cv(model)\n",
        "    for i, r in enumerate(score, start=1):\n",
        "        print(f'{i} FOLDS: {model_name} RMSLE: {r:.4f}')\n",
        "    print(f'\\n{model_name} mean RMSLE: {np.mean(score):.4f}')\n",
        "    print('='*40)\n",
        "    return model_name, np.mean(score)"
      ]
    },
    {
      "cell_type": "code",
      "execution_count": null,
      "metadata": {
        "id": "OsA7oTuvqIy5"
      },
      "outputs": [],
      "source": [
        "# XGB, LGB 모델 설정 \n",
        "model_xgb = xgb.XGBRegressor(n_estimators=500, max_depth=9, min_child_weight=5, gamma=0.1, n_jobs=-1)\n",
        "model_lgb = lgb.LGBMRegressor(n_estimators=500, max_depth=9, min_child_weight=5, n_jobs=-1)"
      ]
    },
    {
      "cell_type": "code",
      "execution_count": null,
      "metadata": {
        "colab": {
          "base_uri": "https://localhost:8080/"
        },
        "id": "eufT7cTMqQwi",
        "outputId": "5ead02e8-dee6-438d-b843-6ff9ef257c26"
      },
      "outputs": [],
      "source": [
        "models = []\n",
        "scores = []\n",
        "for model in [model_xgb, model_lgb]:\n",
        "    model_name, mean_score = print_rmse_score(model)\n",
        "    models.append(model_name)\n",
        "    scores.append(mean_score)"
      ]
    },
    {
      "cell_type": "code",
      "execution_count": null,
      "metadata": {
        "colab": {
          "base_uri": "https://localhost:8080/",
          "height": 112
        },
        "id": "CWVMv45UrBf6",
        "outputId": "287da206-bc12-48b2-9721-f29c657fdaf4"
      },
      "outputs": [],
      "source": [
        "# 모델 성능 비교\n",
        "result_df = pd.DataFrame({'Model': models, 'Score': scores}).reset_index(drop=True)\n",
        "result_df"
      ]
    },
    {
      "cell_type": "code",
      "execution_count": null,
      "metadata": {
        "colab": {
          "base_uri": "https://localhost:8080/",
          "height": 490
        },
        "id": "3Y4t4NdxrFOb",
        "outputId": "375fb75a-6be0-4561-a895-d1d505bc1f28"
      },
      "outputs": [],
      "source": [
        "# 모델 성능 시각화하여 확인\n",
        "f, ax = plt.subplots(figsize=(10, 6))\n",
        "plt.xticks(rotation='90')\n",
        "sns.barplot(x=result_df['Model'], y=result_df['Score'])\n",
        "plt.xlabel('Models', fontsize=15)\n",
        "plt.ylabel('Model Performance', fontsize=15)\n",
        "plt.ylim(0.22, 20000)\n",
        "plt.title('RMSLE', fontsize=15)\n",
        "plt.show()"
      ]
    },
    {
      "cell_type": "code",
      "execution_count": null,
      "metadata": {
        "colab": {
          "base_uri": "https://localhost:8080/"
        },
        "id": "ueAMQcSBsyKC",
        "outputId": "9192302e-2003-4fea-be0f-7e08aeb8f925"
      },
      "outputs": [],
      "source": [
        "# train, valid split \n",
        "cut = int(len(df)*0.8) # traun, valid 80:20 으로 split\n",
        "train = df[:cut]\n",
        "valid = df[cut:]\n",
        "\n",
        "train_X = train.drop('price', axis=1)\n",
        "train_y = train['price']\n",
        "valid_X = valid.drop('price', axis=1)\n",
        "valid_y = valid['price']\n",
        "print(train_X.shape, train_y.shape, valid_X.shape, valid_y.shape)"
      ]
    },
    {
      "cell_type": "code",
      "execution_count": null,
      "metadata": {
        "colab": {
          "base_uri": "https://localhost:8080/",
          "height": 334
        },
        "id": "jcMfY-1stXp5",
        "outputId": "ec88e224-1408-4d4e-c70e-75505a2171bb"
      },
      "outputs": [],
      "source": [
        "train_X.head()"
      ]
    },
    {
      "cell_type": "code",
      "execution_count": null,
      "metadata": {
        "colab": {
          "base_uri": "https://localhost:8080/"
        },
        "id": "vjjGzY9vtmwt",
        "outputId": "a16456bf-8ffe-4796-dc47-fee0d0c4713b"
      },
      "outputs": [],
      "source": [
        "# 하이퍼 파라미터 튜닝\n",
        "# 시간 이슈 때문에 TimeSeriesSplit은 적용하지 않음\n",
        "from optuna.samplers import TPESampler\n",
        "\n",
        "sampler = TPESampler(seed=10)\n",
        "\n",
        "def objective(trial):\n",
        "    dtrain = lgb.Dataset(train_X, label=train_y)\n",
        "    dtest = lgb.Dataset(valid_X, label=valid_y)\n",
        "\n",
        "    param = {\n",
        "        'objective': 'regression', # 회귀\n",
        "        'verbose': -1,\n",
        "        'metric': 'rmse', \n",
        "        'max_depth': trial.suggest_int('max_depth',3, 15),\n",
        "        'learning_rate': trial.suggest_loguniform(\"learning_rate\", 1e-8, 1e-2),\n",
        "        'n_estimators': trial.suggest_int('n_estimators', 100, 3000),\n",
        "        'min_child_samples': trial.suggest_int('min_child_samples', 5, 100),\n",
        "        'subsample': trial.suggest_loguniform('subsample', 0.4, 1),\n",
        "    }\n",
        "\n",
        "    model = lgb.LGBMRegressor(**param)\n",
        "    lgb_model = model.fit(train_X, train_y, eval_set=[(valid_X, valid_y)], verbose=0, early_stopping_rounds=25)\n",
        "    rmse = RMSE(valid_y, lgb_model.predict(valid_X))\n",
        "    return rmse\n",
        "       \n",
        "study_lgb = optuna.create_study(direction='minimize', sampler=sampler)\n",
        "study_lgb.optimize(objective, n_trials=100)"
      ]
    },
    {
      "cell_type": "code",
      "execution_count": null,
      "metadata": {
        "colab": {
          "base_uri": "https://localhost:8080/"
        },
        "id": "jodCKzuPuChB",
        "outputId": "0b986d18-16d2-4bb6-c6f4-afd8b6f8de89"
      },
      "outputs": [],
      "source": [
        "# val 검증\n",
        "trial = study_lgb.best_trial\n",
        "trial_params = trial.params\n",
        "print('Best Trial: score {},\\nparams {}'.format(trial.value, trial_params))"
      ]
    },
    {
      "cell_type": "code",
      "execution_count": null,
      "metadata": {
        "id": "QRFr2U60JCHf"
      },
      "outputs": [],
      "source": [
        "# test 데이터셋 분할\n",
        "test_X = test.drop('price', axis=1)\n",
        "test_y = test['price']"
      ]
    },
    {
      "cell_type": "code",
      "execution_count": null,
      "metadata": {
        "id": "yyUzaPE0uODj"
      },
      "outputs": [],
      "source": [
        "# 데이터에 LightGBM model 적용\n",
        "final_lgb_model = lgb.LGBMRegressor(**trial_params)\n",
        "final_lgb_model.fit(train_X, train_y)\n",
        "final_lgb_pred = final_lgb_model.predict(test_X)"
      ]
    },
    {
      "cell_type": "code",
      "execution_count": null,
      "metadata": {
        "colab": {
          "base_uri": "https://localhost:8080/"
        },
        "id": "3RSNTSZyl5C1",
        "outputId": "d5ed23f5-3d95-461c-8ba9-433c131eb80a"
      },
      "outputs": [],
      "source": [
        "# 평가지표 출력\n",
        "from sklearn.metrics import r2_score, mean_squared_error, mean_absolute_error\n",
        "\n",
        "print('R2 : {:.3f}'.format(r2_score(test_y, final_lgb_pred)))\n",
        "print('MSE : {:.3f}'.format(mean_squared_error(test_y, final_lgb_pred)))\n",
        "print('MAE : {:.3f}'.format(mean_absolute_error(test_y, final_lgb_pred)))\n",
        "print('RMSE : {:.3f}'.format(np.sqrt(mean_squared_error(test_y, final_lgb_pred))))"
      ]
    },
    {
      "cell_type": "code",
      "execution_count": null,
      "metadata": {
        "colab": {
          "base_uri": "https://localhost:8080/"
        },
        "id": "wH4Gjl9yevoe",
        "outputId": "3cfbf393-db94-409a-a603-14afdf5befa1"
      },
      "outputs": [],
      "source": [
        "score = rmse_cv(final_lgb_model)\n",
        "score"
      ]
    },
    {
      "cell_type": "code",
      "execution_count": null,
      "metadata": {
        "colab": {
          "base_uri": "https://localhost:8080/"
        },
        "id": "ORdGmEgduZ3z",
        "outputId": "6d33952d-cb39-4123-8c52-2062c525b1d9"
      },
      "outputs": [],
      "source": [
        "final_lgb_pred"
      ]
    },
    {
      "cell_type": "code",
      "execution_count": null,
      "metadata": {
        "id": "e3gPGzk4ohp2"
      },
      "outputs": [],
      "source": [
        "# plt 한글 폰트 깨짐 설치\n",
        "!sudo apt-get install -y fonts-nanum\n",
        "!sudo fc-cache -fv\n",
        "!rm ~/.cache/matplotlib -rf"
      ]
    },
    {
      "cell_type": "code",
      "execution_count": null,
      "metadata": {
        "id": "uFSGsk6MpAR3"
      },
      "outputs": [],
      "source": [
        "# 폰트 및 그래프 크기 설정\n",
        "import matplotlib.pyplot as plt\n",
        "\n",
        "plt.rc('font', family='NanumBarunGothic')\n",
        "plt.rcParams[\"figure.figsize\"] = [20, 15]"
      ]
    },
    {
      "cell_type": "code",
      "execution_count": null,
      "metadata": {
        "colab": {
          "base_uri": "https://localhost:8080/",
          "height": 475
        },
        "id": "voJ4h_TJub45",
        "outputId": "3270c880-e3c7-4e0a-b9de-fe664acc625f"
      },
      "outputs": [],
      "source": [
        "# 그래프 출력\n",
        "plt.barh(train_X.columns, final_lgb_model.feature_importances_)"
      ]
    },
    {
      "cell_type": "code",
      "execution_count": null,
      "metadata": {
        "id": "h1eDnFUAxOFJ"
      },
      "outputs": [],
      "source": [
        "# 학습시킨 모델 저장하기\n",
        "import joblib\n",
        "\n",
        "joblib.dump(model, './ZDRSJ_model.pkl')"
      ]
    }
  ],
  "metadata": {
    "colab": {
      "collapsed_sections": [],
      "name": "zdrsj_modeling_traintest.ipynb",
      "provenance": []
    },
    "kernelspec": {
      "display_name": "Python 3",
      "name": "python3"
    },
    "language_info": {
      "codemirror_mode": {
        "name": "ipython",
        "version": 3
      },
      "file_extension": ".py",
      "mimetype": "text/x-python",
      "name": "python",
      "nbconvert_exporter": "python",
      "pygments_lexer": "ipython3",
      "version": "3.9.7"
    }
  },
  "nbformat": 4,
  "nbformat_minor": 0
}
